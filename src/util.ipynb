{
 "cells": [
  {
   "cell_type": "code",
   "execution_count": 3,
   "metadata": {},
   "outputs": [],
   "source": [
    "from openmsimodel.graph.open_graph import OpenGraph\n",
    "from birdshot_modeller import BIRDSHOTModeller"
   ]
  },
  {
   "cell_type": "code",
   "execution_count": 4,
   "metadata": {},
   "outputs": [
    {
     "name": "stderr",
     "output_type": "stream",
     "text": [
      "template.bounds {'upper_bound': 15, 'default_units': 'centimeter', 'lower_bound': 0, 'type': 'real_bounds'} does not contain value {'units': 'centimeter', 'nominal': 38.83, 'type': 'nominal_real'}\n",
      "template.bounds {'upper_bound': 15, 'default_units': 'centimeter', 'lower_bound': 0, 'type': 'real_bounds'} does not contain value {'units': 'centimeter', 'nominal': 38.83, 'type': 'nominal_real'}\n",
      "Value {'units': 'centimeter', 'nominal': 38.83, 'type': 'nominal_real'} is inconsistent with template Dimensions\n",
      "template.bounds {'upper_bound': 15, 'default_units': 'centimeter', 'lower_bound': 0, 'type': 'real_bounds'} does not contain value {'units': 'centimeter', 'nominal': 63.57, 'type': 'nominal_real'}\n",
      "template.bounds {'upper_bound': 15, 'default_units': 'centimeter', 'lower_bound': 0, 'type': 'real_bounds'} does not contain value {'units': 'centimeter', 'nominal': 63.57, 'type': 'nominal_real'}\n",
      "Value {'units': 'centimeter', 'nominal': 63.57, 'type': 'nominal_real'} is inconsistent with template Dimensions\n",
      "Ignoring unexpected keyword argument in MeasurementSpec: properties\n",
      "Ignoring unexpected keyword argument in MeasurementSpec: properties\n",
      "Ignoring unexpected keyword argument in MeasurementSpec: properties\n",
      "Ignoring unexpected keyword argument in MeasurementSpec: properties\n"
     ]
    },
    {
     "name": "stderr",
     "output_type": "stream",
     "text": [
      "Ignoring unexpected keyword argument in MeasurementSpec: properties\n",
      "Ignoring unexpected keyword argument in MeasurementSpec: properties\n"
     ]
    },
    {
     "name": "stdout",
     "output_type": "stream",
     "text": [
      "Processing existing files and folders\n",
      "- Processing initial folder: /srv/hemi01-j01/htmdec_models/data/birdshot/files_folder/BBB\n",
      "No Rules were Found for BBB \n",
      "- Processing initial folder: /srv/hemi01-j01/htmdec_models/data/birdshot/files_folder/BBB/VAM-A\n",
      "No Rules were Found for VAM-A \n",
      "- Processing initial folder: /srv/hemi01-j01/htmdec_models/data/birdshot/files_folder/BBB/VAM-A/BBB01\n",
      "No Rules were Found for BBB01 \n",
      "- Processing initial folder: /srv/hemi01-j01/htmdec_models/data/birdshot/files_folder/BBB/VAM-A/BBB01/Syn\n",
      "root\n",
      "  BBB01\n",
      "    {'rule_function': <function BIRDSHOTModeller.__init__.<locals>.<lambda> at 0x7f8b6b39b9d0>, 'file_id_regex_pattern': ('\\\\b[A-Z]{3}[0-9]{2}\\\\b', True), 'required_schema': [], 'action_function': <function BIRDSHOTModeller.__init__.<locals>.<lambda> at 0x7f8b6b39ba60>}\n",
      "tree None\n",
      "Rule was Found for Syn and applied. \n",
      "- Processing initial folder: /srv/hemi01-j01/htmdec_models/data/birdshot/files_folder/BBB/VAM-A/BBB01/EDS\n",
      "root\n",
      "  BBB01\n",
      "    {'rule_function': <function BIRDSHOTModeller.__init__.<locals>.<lambda> at 0x7f8b6b39b9d0>, 'file_id_regex_pattern': ('\\\\b[A-Z]{3}[0-9]{2}\\\\b', True), 'required_schema': [], 'action_function': <function BIRDSHOTModeller.__init__.<locals>.<lambda> at 0x7f8b6b39ba60>}\n",
      "    {'rule_function': <function BIRDSHOTModeller.__init__.<locals>.<lambda> at 0x7f8b6b39b820>, 'file_id_regex_pattern': ('\\\\b[A-Z]{3}[0-9]{2}\\\\b', True), 'required_schema': [], 'action_function': <function BIRDSHOTModeller.__init__.<locals>.<lambda> at 0x7f8b6b39b940>}\n",
      "tree None\n"
     ]
    },
    {
     "name": "stderr",
     "output_type": "stream",
     "text": [
      "Ignoring unexpected keyword argument in MeasurementSpec: properties\n",
      "Ignoring unexpected keyword argument in MeasurementSpec: properties\n",
      "Ignoring unexpected keyword argument in MeasurementSpec: properties\n",
      "Ignoring unexpected keyword argument in MeasurementSpec: properties\n",
      "template.bounds {'upper_bound': 5, 'default_units': 'gram', 'lower_bound': 0, 'type': 'real_bounds'} does not contain value {'units': 'dimensionless', 'nominal': 0.144, 'type': 'nominal_real'}\n"
     ]
    },
    {
     "name": "stdout",
     "output_type": "stream",
     "text": [
      "Rule was Found for EDS and applied. \n",
      "- Processing initial folder: /srv/hemi01-j01/htmdec_models/data/birdshot/files_folder/BBB/VAM-A/BBB01/NI-HSR\n"
     ]
    },
    {
     "name": "stderr",
     "output_type": "stream",
     "text": [
      "template.bounds {'upper_bound': 5, 'default_units': 'gram', 'lower_bound': 0, 'type': 'real_bounds'} does not contain value {'units': 'dimensionless', 'nominal': 0.144, 'type': 'nominal_real'}\n",
      "Value {'units': 'dimensionless', 'nominal': 0.144, 'type': 'nominal_real'} is inconsistent with template Nanoindentation Process\n",
      "Value {'units': 'dimensionless', 'nominal': 0.144, 'type': 'nominal_real'} is inconsistent with template Nanoindentation Process\n",
      "Value {'units': 'dimensionless', 'nominal': 0.144, 'type': 'nominal_real'} is inconsistent with template Nanoindentation Process\n",
      "Value {'units': 'dimensionless', 'nominal': 0.144, 'type': 'nominal_real'} is inconsistent with template Nanoindentation Process\n",
      "template.bounds {'upper_bound': 5000000, 'default_units': 'newton / meter', 'lower_bound': 0, 'type': 'real_bounds'} does not contain value {'units': 'newton / meter', 'nominal': 8000000.0, 'type': 'nominal_real'}\n",
      "template.bounds {'upper_bound': 5000000, 'default_units': 'newton / meter', 'lower_bound': 0, 'type': 'real_bounds'} does not contain value {'units': 'newton / meter', 'nominal': 8000000.0, 'type': 'nominal_real'}\n",
      "Value {'units': 'dimensionless', 'nominal': 0.144, 'type': 'nominal_real'} is inconsistent with template Nanoindentation Process\n",
      "Value {'units': 'newton / meter', 'nominal': 8000000.0, 'type': 'nominal_real'} is inconsistent with template Nanoindentation Process\n",
      "Value {'units': 'dimensionless', 'nominal': 0.144, 'type': 'nominal_real'} is inconsistent with template Nanoindentation Process\n",
      "Value {'units': 'newton / meter', 'nominal': 8000000.0, 'type': 'nominal_real'} is inconsistent with template Nanoindentation Process\n",
      "template.bounds {'upper_bound': 500000, 'default_units': 'newton / meter', 'lower_bound': 0, 'type': 'real_bounds'} does not contain value {'units': 'newton / meter', 'nominal': 14700000.0, 'type': 'nominal_real'}\n",
      "template.bounds {'upper_bound': 500000, 'default_units': 'newton / meter', 'lower_bound': 0, 'type': 'real_bounds'} does not contain value {'units': 'newton / meter', 'nominal': 14700000.0, 'type': 'nominal_real'}\n",
      "Value {'units': 'dimensionless', 'nominal': 0.144, 'type': 'nominal_real'} is inconsistent with template Nanoindentation Process\n",
      "Value {'units': 'newton / meter', 'nominal': 8000000.0, 'type': 'nominal_real'} is inconsistent with template Nanoindentation Process\n",
      "Value {'units': 'newton / meter', 'nominal': 14700000.0, 'type': 'nominal_real'} is inconsistent with template Nanoindentation Process\n",
      "Value {'units': 'dimensionless', 'nominal': 0.144, 'type': 'nominal_real'} is inconsistent with template Nanoindentation Process\n",
      "Value {'units': 'newton / meter', 'nominal': 8000000.0, 'type': 'nominal_real'} is inconsistent with template Nanoindentation Process\n",
      "Value {'units': 'newton / meter', 'nominal': 14700000.0, 'type': 'nominal_real'} is inconsistent with template Nanoindentation Process\n",
      "Value {'units': 'dimensionless', 'nominal': 0.144, 'type': 'nominal_real'} is inconsistent with template Nanoindentation Process\n",
      "Value {'units': 'newton / meter', 'nominal': 8000000.0, 'type': 'nominal_real'} is inconsistent with template Nanoindentation Process\n",
      "Value {'units': 'newton / meter', 'nominal': 14700000.0, 'type': 'nominal_real'} is inconsistent with template Nanoindentation Process\n",
      "Value {'units': 'dimensionless', 'nominal': 0.144, 'type': 'nominal_real'} is inconsistent with template Nanoindentation Process\n",
      "Value {'units': 'newton / meter', 'nominal': 8000000.0, 'type': 'nominal_real'} is inconsistent with template Nanoindentation Process\n",
      "Value {'units': 'newton / meter', 'nominal': 14700000.0, 'type': 'nominal_real'} is inconsistent with template Nanoindentation Process\n",
      "Value {'units': 'dimensionless', 'nominal': 0.144, 'type': 'nominal_real'} is inconsistent with template Nanoindentation Process\n",
      "Value {'units': 'newton / meter', 'nominal': 8000000.0, 'type': 'nominal_real'} is inconsistent with template Nanoindentation Process\n",
      "Value {'units': 'newton / meter', 'nominal': 14700000.0, 'type': 'nominal_real'} is inconsistent with template Nanoindentation Process\n",
      "Value {'units': 'dimensionless', 'nominal': 0.144, 'type': 'nominal_real'} is inconsistent with template Nanoindentation Process\n",
      "Value {'units': 'newton / meter', 'nominal': 8000000.0, 'type': 'nominal_real'} is inconsistent with template Nanoindentation Process\n",
      "Value {'units': 'newton / meter', 'nominal': 14700000.0, 'type': 'nominal_real'} is inconsistent with template Nanoindentation Process\n",
      "Value {'units': 'dimensionless', 'nominal': 0.144, 'type': 'nominal_real'} is inconsistent with template Nanoindentation Process\n",
      "Value {'units': 'newton / meter', 'nominal': 8000000.0, 'type': 'nominal_real'} is inconsistent with template Nanoindentation Process\n",
      "Value {'units': 'newton / meter', 'nominal': 14700000.0, 'type': 'nominal_real'} is inconsistent with template Nanoindentation Process\n",
      "Value {'units': 'dimensionless', 'nominal': 0.144, 'type': 'nominal_real'} is inconsistent with template Nanoindentation Process\n",
      "Value {'units': 'newton / meter', 'nominal': 8000000.0, 'type': 'nominal_real'} is inconsistent with template Nanoindentation Process\n",
      "Value {'units': 'newton / meter', 'nominal': 14700000.0, 'type': 'nominal_real'} is inconsistent with template Nanoindentation Process\n",
      "Value {'units': 'dimensionless', 'nominal': 0.144, 'type': 'nominal_real'} is inconsistent with template Nanoindentation Process\n",
      "Value {'units': 'newton / meter', 'nominal': 8000000.0, 'type': 'nominal_real'} is inconsistent with template Nanoindentation Process\n",
      "Value {'units': 'newton / meter', 'nominal': 14700000.0, 'type': 'nominal_real'} is inconsistent with template Nanoindentation Process\n",
      "Value {'units': 'dimensionless', 'nominal': 0.144, 'type': 'nominal_real'} is inconsistent with template Nanoindentation Process\n",
      "Value {'units': 'newton / meter', 'nominal': 8000000.0, 'type': 'nominal_real'} is inconsistent with template Nanoindentation Process\n",
      "Value {'units': 'newton / meter', 'nominal': 14700000.0, 'type': 'nominal_real'} is inconsistent with template Nanoindentation Process\n",
      "Value {'units': 'dimensionless', 'nominal': 0.144, 'type': 'nominal_real'} is inconsistent with template Nanoindentation Process\n",
      "Value {'units': 'newton / meter', 'nominal': 8000000.0, 'type': 'nominal_real'} is inconsistent with template Nanoindentation Process\n",
      "Value {'units': 'newton / meter', 'nominal': 14700000.0, 'type': 'nominal_real'} is inconsistent with template Nanoindentation Process\n",
      "Value {'units': 'dimensionless', 'nominal': 0.144, 'type': 'nominal_real'} is inconsistent with template Nanoindentation Process\n",
      "Value {'units': 'newton / meter', 'nominal': 8000000.0, 'type': 'nominal_real'} is inconsistent with template Nanoindentation Process\n",
      "Value {'units': 'newton / meter', 'nominal': 14700000.0, 'type': 'nominal_real'} is inconsistent with template Nanoindentation Process\n",
      "Value {'units': 'dimensionless', 'nominal': 0.144, 'type': 'nominal_real'} is inconsistent with template Nanoindentation Process\n",
      "Value {'units': 'newton / meter', 'nominal': 8000000.0, 'type': 'nominal_real'} is inconsistent with template Nanoindentation Process\n",
      "Value {'units': 'newton / meter', 'nominal': 14700000.0, 'type': 'nominal_real'} is inconsistent with template Nanoindentation Process\n",
      "Value {'units': 'dimensionless', 'nominal': 0.144, 'type': 'nominal_real'} is inconsistent with template Nanoindentation Process\n",
      "Value {'units': 'newton / meter', 'nominal': 8000000.0, 'type': 'nominal_real'} is inconsistent with template Nanoindentation Process\n",
      "Value {'units': 'newton / meter', 'nominal': 14700000.0, 'type': 'nominal_real'} is inconsistent with template Nanoindentation Process\n",
      "Value {'units': 'dimensionless', 'nominal': 0.144, 'type': 'nominal_real'} is inconsistent with template Nanoindentation Process\n",
      "Value {'units': 'newton / meter', 'nominal': 8000000.0, 'type': 'nominal_real'} is inconsistent with template Nanoindentation Process\n",
      "Value {'units': 'newton / meter', 'nominal': 14700000.0, 'type': 'nominal_real'} is inconsistent with template Nanoindentation Process\n",
      "Value {'units': 'dimensionless', 'nominal': 0.144, 'type': 'nominal_real'} is inconsistent with template Nanoindentation Process\n",
      "Value {'units': 'newton / meter', 'nominal': 8000000.0, 'type': 'nominal_real'} is inconsistent with template Nanoindentation Process\n",
      "Value {'units': 'newton / meter', 'nominal': 14700000.0, 'type': 'nominal_real'} is inconsistent with template Nanoindentation Process\n",
      "Value {'units': 'dimensionless', 'nominal': 0.144, 'type': 'nominal_real'} is inconsistent with template Nanoindentation Process\n",
      "Value {'units': 'newton / meter', 'nominal': 8000000.0, 'type': 'nominal_real'} is inconsistent with template Nanoindentation Process\n",
      "Value {'units': 'newton / meter', 'nominal': 14700000.0, 'type': 'nominal_real'} is inconsistent with template Nanoindentation Process\n",
      "Value {'units': 'dimensionless', 'nominal': 0.144, 'type': 'nominal_real'} is inconsistent with template Nanoindentation Process\n",
      "Value {'units': 'newton / meter', 'nominal': 8000000.0, 'type': 'nominal_real'} is inconsistent with template Nanoindentation Process\n",
      "Value {'units': 'newton / meter', 'nominal': 14700000.0, 'type': 'nominal_real'} is inconsistent with template Nanoindentation Process\n",
      "template.bounds {'upper_bound': 5, 'default_units': 'gram', 'lower_bound': 0, 'type': 'real_bounds'} does not contain value {'units': 'dimensionless', 'nominal': 0.144, 'type': 'nominal_real'}\n",
      "template.bounds {'upper_bound': 5, 'default_units': 'gram', 'lower_bound': 0, 'type': 'real_bounds'} does not contain value {'units': 'dimensionless', 'nominal': 0.144, 'type': 'nominal_real'}\n",
      "Value {'units': 'dimensionless', 'nominal': 0.144, 'type': 'nominal_real'} is inconsistent with template Nanoindentation Process\n",
      "Value {'units': 'dimensionless', 'nominal': 0.144, 'type': 'nominal_real'} is inconsistent with template Nanoindentation Process\n",
      "Value {'units': 'dimensionless', 'nominal': 0.144, 'type': 'nominal_real'} is inconsistent with template Nanoindentation Process\n",
      "Value {'units': 'dimensionless', 'nominal': 0.144, 'type': 'nominal_real'} is inconsistent with template Nanoindentation Process\n",
      "template.bounds {'upper_bound': 5000000, 'default_units': 'newton / meter', 'lower_bound': 0, 'type': 'real_bounds'} does not contain value {'units': 'newton / meter', 'nominal': 8000000.0, 'type': 'nominal_real'}\n",
      "template.bounds {'upper_bound': 5000000, 'default_units': 'newton / meter', 'lower_bound': 0, 'type': 'real_bounds'} does not contain value {'units': 'newton / meter', 'nominal': 8000000.0, 'type': 'nominal_real'}\n",
      "Value {'units': 'dimensionless', 'nominal': 0.144, 'type': 'nominal_real'} is inconsistent with template Nanoindentation Process\n",
      "Value {'units': 'newton / meter', 'nominal': 8000000.0, 'type': 'nominal_real'} is inconsistent with template Nanoindentation Process\n",
      "Value {'units': 'dimensionless', 'nominal': 0.144, 'type': 'nominal_real'} is inconsistent with template Nanoindentation Process\n",
      "Value {'units': 'newton / meter', 'nominal': 8000000.0, 'type': 'nominal_real'} is inconsistent with template Nanoindentation Process\n",
      "template.bounds {'upper_bound': 500000, 'default_units': 'newton / meter', 'lower_bound': 0, 'type': 'real_bounds'} does not contain value {'units': 'newton / meter', 'nominal': 14700000.0, 'type': 'nominal_real'}\n",
      "template.bounds {'upper_bound': 500000, 'default_units': 'newton / meter', 'lower_bound': 0, 'type': 'real_bounds'} does not contain value {'units': 'newton / meter', 'nominal': 14700000.0, 'type': 'nominal_real'}\n",
      "Value {'units': 'dimensionless', 'nominal': 0.144, 'type': 'nominal_real'} is inconsistent with template Nanoindentation Process\n",
      "Value {'units': 'newton / meter', 'nominal': 8000000.0, 'type': 'nominal_real'} is inconsistent with template Nanoindentation Process\n",
      "Value {'units': 'newton / meter', 'nominal': 14700000.0, 'type': 'nominal_real'} is inconsistent with template Nanoindentation Process\n",
      "Value {'units': 'dimensionless', 'nominal': 0.144, 'type': 'nominal_real'} is inconsistent with template Nanoindentation Process\n",
      "Value {'units': 'newton / meter', 'nominal': 8000000.0, 'type': 'nominal_real'} is inconsistent with template Nanoindentation Process\n",
      "Value {'units': 'newton / meter', 'nominal': 14700000.0, 'type': 'nominal_real'} is inconsistent with template Nanoindentation Process\n",
      "Value {'units': 'dimensionless', 'nominal': 0.144, 'type': 'nominal_real'} is inconsistent with template Nanoindentation Process\n",
      "Value {'units': 'newton / meter', 'nominal': 8000000.0, 'type': 'nominal_real'} is inconsistent with template Nanoindentation Process\n",
      "Value {'units': 'newton / meter', 'nominal': 14700000.0, 'type': 'nominal_real'} is inconsistent with template Nanoindentation Process\n",
      "Value {'units': 'dimensionless', 'nominal': 0.144, 'type': 'nominal_real'} is inconsistent with template Nanoindentation Process\n",
      "Value {'units': 'newton / meter', 'nominal': 8000000.0, 'type': 'nominal_real'} is inconsistent with template Nanoindentation Process\n",
      "Value {'units': 'newton / meter', 'nominal': 14700000.0, 'type': 'nominal_real'} is inconsistent with template Nanoindentation Process\n",
      "Value {'units': 'dimensionless', 'nominal': 0.144, 'type': 'nominal_real'} is inconsistent with template Nanoindentation Process\n",
      "Value {'units': 'newton / meter', 'nominal': 8000000.0, 'type': 'nominal_real'} is inconsistent with template Nanoindentation Process\n",
      "Value {'units': 'newton / meter', 'nominal': 14700000.0, 'type': 'nominal_real'} is inconsistent with template Nanoindentation Process\n",
      "Value {'units': 'dimensionless', 'nominal': 0.144, 'type': 'nominal_real'} is inconsistent with template Nanoindentation Process\n",
      "Value {'units': 'newton / meter', 'nominal': 8000000.0, 'type': 'nominal_real'} is inconsistent with template Nanoindentation Process\n",
      "Value {'units': 'newton / meter', 'nominal': 14700000.0, 'type': 'nominal_real'} is inconsistent with template Nanoindentation Process\n",
      "Value {'units': 'dimensionless', 'nominal': 0.144, 'type': 'nominal_real'} is inconsistent with template Nanoindentation Process\n",
      "Value {'units': 'newton / meter', 'nominal': 8000000.0, 'type': 'nominal_real'} is inconsistent with template Nanoindentation Process\n",
      "Value {'units': 'newton / meter', 'nominal': 14700000.0, 'type': 'nominal_real'} is inconsistent with template Nanoindentation Process\n",
      "Value {'units': 'dimensionless', 'nominal': 0.144, 'type': 'nominal_real'} is inconsistent with template Nanoindentation Process\n",
      "Value {'units': 'newton / meter', 'nominal': 8000000.0, 'type': 'nominal_real'} is inconsistent with template Nanoindentation Process\n",
      "Value {'units': 'newton / meter', 'nominal': 14700000.0, 'type': 'nominal_real'} is inconsistent with template Nanoindentation Process\n",
      "Value {'units': 'dimensionless', 'nominal': 0.144, 'type': 'nominal_real'} is inconsistent with template Nanoindentation Process\n",
      "Value {'units': 'newton / meter', 'nominal': 8000000.0, 'type': 'nominal_real'} is inconsistent with template Nanoindentation Process\n",
      "Value {'units': 'newton / meter', 'nominal': 14700000.0, 'type': 'nominal_real'} is inconsistent with template Nanoindentation Process\n",
      "Value {'units': 'dimensionless', 'nominal': 0.144, 'type': 'nominal_real'} is inconsistent with template Nanoindentation Process\n",
      "Value {'units': 'newton / meter', 'nominal': 8000000.0, 'type': 'nominal_real'} is inconsistent with template Nanoindentation Process\n",
      "Value {'units': 'newton / meter', 'nominal': 14700000.0, 'type': 'nominal_real'} is inconsistent with template Nanoindentation Process\n",
      "Value {'units': 'dimensionless', 'nominal': 0.144, 'type': 'nominal_real'} is inconsistent with template Nanoindentation Process\n",
      "Value {'units': 'newton / meter', 'nominal': 8000000.0, 'type': 'nominal_real'} is inconsistent with template Nanoindentation Process\n",
      "Value {'units': 'newton / meter', 'nominal': 14700000.0, 'type': 'nominal_real'} is inconsistent with template Nanoindentation Process\n",
      "Value {'units': 'dimensionless', 'nominal': 0.144, 'type': 'nominal_real'} is inconsistent with template Nanoindentation Process\n",
      "Value {'units': 'newton / meter', 'nominal': 8000000.0, 'type': 'nominal_real'} is inconsistent with template Nanoindentation Process\n",
      "Value {'units': 'newton / meter', 'nominal': 14700000.0, 'type': 'nominal_real'} is inconsistent with template Nanoindentation Process\n",
      "Value {'units': 'dimensionless', 'nominal': 0.144, 'type': 'nominal_real'} is inconsistent with template Nanoindentation Process\n",
      "Value {'units': 'newton / meter', 'nominal': 8000000.0, 'type': 'nominal_real'} is inconsistent with template Nanoindentation Process\n",
      "Value {'units': 'newton / meter', 'nominal': 14700000.0, 'type': 'nominal_real'} is inconsistent with template Nanoindentation Process\n",
      "Value {'units': 'dimensionless', 'nominal': 0.144, 'type': 'nominal_real'} is inconsistent with template Nanoindentation Process\n",
      "Value {'units': 'newton / meter', 'nominal': 8000000.0, 'type': 'nominal_real'} is inconsistent with template Nanoindentation Process\n",
      "Value {'units': 'newton / meter', 'nominal': 14700000.0, 'type': 'nominal_real'} is inconsistent with template Nanoindentation Process\n",
      "Value {'units': 'dimensionless', 'nominal': 0.144, 'type': 'nominal_real'} is inconsistent with template Nanoindentation Process\n",
      "Value {'units': 'newton / meter', 'nominal': 8000000.0, 'type': 'nominal_real'} is inconsistent with template Nanoindentation Process\n",
      "Value {'units': 'newton / meter', 'nominal': 14700000.0, 'type': 'nominal_real'} is inconsistent with template Nanoindentation Process\n",
      "Value {'units': 'dimensionless', 'nominal': 0.144, 'type': 'nominal_real'} is inconsistent with template Nanoindentation Process\n",
      "Value {'units': 'newton / meter', 'nominal': 8000000.0, 'type': 'nominal_real'} is inconsistent with template Nanoindentation Process\n",
      "Value {'units': 'newton / meter', 'nominal': 14700000.0, 'type': 'nominal_real'} is inconsistent with template Nanoindentation Process\n",
      "Value {'units': 'dimensionless', 'nominal': 0.144, 'type': 'nominal_real'} is inconsistent with template Nanoindentation Process\n",
      "Value {'units': 'newton / meter', 'nominal': 8000000.0, 'type': 'nominal_real'} is inconsistent with template Nanoindentation Process\n",
      "Value {'units': 'newton / meter', 'nominal': 14700000.0, 'type': 'nominal_real'} is inconsistent with template Nanoindentation Process\n",
      "Value {'units': 'dimensionless', 'nominal': 0.144, 'type': 'nominal_real'} is inconsistent with template Nanoindentation Process\n",
      "Value {'units': 'newton / meter', 'nominal': 8000000.0, 'type': 'nominal_real'} is inconsistent with template Nanoindentation Process\n",
      "Value {'units': 'newton / meter', 'nominal': 14700000.0, 'type': 'nominal_real'} is inconsistent with template Nanoindentation Process\n",
      "template.bounds {'upper_bound': 5, 'default_units': 'gram', 'lower_bound': 0, 'type': 'real_bounds'} does not contain value {'units': 'dimensionless', 'nominal': 0.144, 'type': 'nominal_real'}\n",
      "template.bounds {'upper_bound': 5, 'default_units': 'gram', 'lower_bound': 0, 'type': 'real_bounds'} does not contain value {'units': 'dimensionless', 'nominal': 0.144, 'type': 'nominal_real'}\n",
      "Value {'units': 'dimensionless', 'nominal': 0.144, 'type': 'nominal_real'} is inconsistent with template Nanoindentation Process\n",
      "Value {'units': 'dimensionless', 'nominal': 0.144, 'type': 'nominal_real'} is inconsistent with template Nanoindentation Process\n",
      "Value {'units': 'dimensionless', 'nominal': 0.144, 'type': 'nominal_real'} is inconsistent with template Nanoindentation Process\n",
      "Value {'units': 'dimensionless', 'nominal': 0.144, 'type': 'nominal_real'} is inconsistent with template Nanoindentation Process\n",
      "template.bounds {'upper_bound': 5000000, 'default_units': 'newton / meter', 'lower_bound': 0, 'type': 'real_bounds'} does not contain value {'units': 'newton / meter', 'nominal': 8000000.0, 'type': 'nominal_real'}\n",
      "template.bounds {'upper_bound': 5000000, 'default_units': 'newton / meter', 'lower_bound': 0, 'type': 'real_bounds'} does not contain value {'units': 'newton / meter', 'nominal': 8000000.0, 'type': 'nominal_real'}\n",
      "Value {'units': 'dimensionless', 'nominal': 0.144, 'type': 'nominal_real'} is inconsistent with template Nanoindentation Process\n",
      "Value {'units': 'newton / meter', 'nominal': 8000000.0, 'type': 'nominal_real'} is inconsistent with template Nanoindentation Process\n",
      "Value {'units': 'dimensionless', 'nominal': 0.144, 'type': 'nominal_real'} is inconsistent with template Nanoindentation Process\n",
      "Value {'units': 'newton / meter', 'nominal': 8000000.0, 'type': 'nominal_real'} is inconsistent with template Nanoindentation Process\n",
      "template.bounds {'upper_bound': 500000, 'default_units': 'newton / meter', 'lower_bound': 0, 'type': 'real_bounds'} does not contain value {'units': 'newton / meter', 'nominal': 14700000.0, 'type': 'nominal_real'}\n",
      "template.bounds {'upper_bound': 500000, 'default_units': 'newton / meter', 'lower_bound': 0, 'type': 'real_bounds'} does not contain value {'units': 'newton / meter', 'nominal': 14700000.0, 'type': 'nominal_real'}\n",
      "Value {'units': 'dimensionless', 'nominal': 0.144, 'type': 'nominal_real'} is inconsistent with template Nanoindentation Process\n",
      "Value {'units': 'newton / meter', 'nominal': 8000000.0, 'type': 'nominal_real'} is inconsistent with template Nanoindentation Process\n",
      "Value {'units': 'newton / meter', 'nominal': 14700000.0, 'type': 'nominal_real'} is inconsistent with template Nanoindentation Process\n",
      "Value {'units': 'dimensionless', 'nominal': 0.144, 'type': 'nominal_real'} is inconsistent with template Nanoindentation Process\n",
      "Value {'units': 'newton / meter', 'nominal': 8000000.0, 'type': 'nominal_real'} is inconsistent with template Nanoindentation Process\n",
      "Value {'units': 'newton / meter', 'nominal': 14700000.0, 'type': 'nominal_real'} is inconsistent with template Nanoindentation Process\n",
      "Value {'units': 'dimensionless', 'nominal': 0.144, 'type': 'nominal_real'} is inconsistent with template Nanoindentation Process\n",
      "Value {'units': 'newton / meter', 'nominal': 8000000.0, 'type': 'nominal_real'} is inconsistent with template Nanoindentation Process\n",
      "Value {'units': 'newton / meter', 'nominal': 14700000.0, 'type': 'nominal_real'} is inconsistent with template Nanoindentation Process\n",
      "Value {'units': 'dimensionless', 'nominal': 0.144, 'type': 'nominal_real'} is inconsistent with template Nanoindentation Process\n",
      "Value {'units': 'newton / meter', 'nominal': 8000000.0, 'type': 'nominal_real'} is inconsistent with template Nanoindentation Process\n",
      "Value {'units': 'newton / meter', 'nominal': 14700000.0, 'type': 'nominal_real'} is inconsistent with template Nanoindentation Process\n",
      "Value {'units': 'dimensionless', 'nominal': 0.144, 'type': 'nominal_real'} is inconsistent with template Nanoindentation Process\n",
      "Value {'units': 'newton / meter', 'nominal': 8000000.0, 'type': 'nominal_real'} is inconsistent with template Nanoindentation Process\n",
      "Value {'units': 'newton / meter', 'nominal': 14700000.0, 'type': 'nominal_real'} is inconsistent with template Nanoindentation Process\n",
      "Value {'units': 'dimensionless', 'nominal': 0.144, 'type': 'nominal_real'} is inconsistent with template Nanoindentation Process\n",
      "Value {'units': 'newton / meter', 'nominal': 8000000.0, 'type': 'nominal_real'} is inconsistent with template Nanoindentation Process\n",
      "Value {'units': 'newton / meter', 'nominal': 14700000.0, 'type': 'nominal_real'} is inconsistent with template Nanoindentation Process\n",
      "Value {'units': 'dimensionless', 'nominal': 0.144, 'type': 'nominal_real'} is inconsistent with template Nanoindentation Process\n",
      "Value {'units': 'newton / meter', 'nominal': 8000000.0, 'type': 'nominal_real'} is inconsistent with template Nanoindentation Process\n",
      "Value {'units': 'newton / meter', 'nominal': 14700000.0, 'type': 'nominal_real'} is inconsistent with template Nanoindentation Process\n",
      "Value {'units': 'dimensionless', 'nominal': 0.144, 'type': 'nominal_real'} is inconsistent with template Nanoindentation Process\n",
      "Value {'units': 'newton / meter', 'nominal': 8000000.0, 'type': 'nominal_real'} is inconsistent with template Nanoindentation Process\n",
      "Value {'units': 'newton / meter', 'nominal': 14700000.0, 'type': 'nominal_real'} is inconsistent with template Nanoindentation Process\n",
      "Value {'units': 'dimensionless', 'nominal': 0.144, 'type': 'nominal_real'} is inconsistent with template Nanoindentation Process\n",
      "Value {'units': 'newton / meter', 'nominal': 8000000.0, 'type': 'nominal_real'} is inconsistent with template Nanoindentation Process\n",
      "Value {'units': 'newton / meter', 'nominal': 14700000.0, 'type': 'nominal_real'} is inconsistent with template Nanoindentation Process\n",
      "Value {'units': 'dimensionless', 'nominal': 0.144, 'type': 'nominal_real'} is inconsistent with template Nanoindentation Process\n",
      "Value {'units': 'newton / meter', 'nominal': 8000000.0, 'type': 'nominal_real'} is inconsistent with template Nanoindentation Process\n",
      "Value {'units': 'newton / meter', 'nominal': 14700000.0, 'type': 'nominal_real'} is inconsistent with template Nanoindentation Process\n",
      "Value {'units': 'dimensionless', 'nominal': 0.144, 'type': 'nominal_real'} is inconsistent with template Nanoindentation Process\n",
      "Value {'units': 'newton / meter', 'nominal': 8000000.0, 'type': 'nominal_real'} is inconsistent with template Nanoindentation Process\n",
      "Value {'units': 'newton / meter', 'nominal': 14700000.0, 'type': 'nominal_real'} is inconsistent with template Nanoindentation Process\n",
      "Value {'units': 'dimensionless', 'nominal': 0.144, 'type': 'nominal_real'} is inconsistent with template Nanoindentation Process\n",
      "Value {'units': 'newton / meter', 'nominal': 8000000.0, 'type': 'nominal_real'} is inconsistent with template Nanoindentation Process\n",
      "Value {'units': 'newton / meter', 'nominal': 14700000.0, 'type': 'nominal_real'} is inconsistent with template Nanoindentation Process\n",
      "Value {'units': 'dimensionless', 'nominal': 0.144, 'type': 'nominal_real'} is inconsistent with template Nanoindentation Process\n",
      "Value {'units': 'newton / meter', 'nominal': 8000000.0, 'type': 'nominal_real'} is inconsistent with template Nanoindentation Process\n",
      "Value {'units': 'newton / meter', 'nominal': 14700000.0, 'type': 'nominal_real'} is inconsistent with template Nanoindentation Process\n",
      "Value {'units': 'dimensionless', 'nominal': 0.144, 'type': 'nominal_real'} is inconsistent with template Nanoindentation Process\n",
      "Value {'units': 'newton / meter', 'nominal': 8000000.0, 'type': 'nominal_real'} is inconsistent with template Nanoindentation Process\n",
      "Value {'units': 'newton / meter', 'nominal': 14700000.0, 'type': 'nominal_real'} is inconsistent with template Nanoindentation Process\n",
      "Value {'units': 'dimensionless', 'nominal': 0.144, 'type': 'nominal_real'} is inconsistent with template Nanoindentation Process\n",
      "Value {'units': 'newton / meter', 'nominal': 8000000.0, 'type': 'nominal_real'} is inconsistent with template Nanoindentation Process\n",
      "Value {'units': 'newton / meter', 'nominal': 14700000.0, 'type': 'nominal_real'} is inconsistent with template Nanoindentation Process\n",
      "Value {'units': 'dimensionless', 'nominal': 0.144, 'type': 'nominal_real'} is inconsistent with template Nanoindentation Process\n",
      "Value {'units': 'newton / meter', 'nominal': 8000000.0, 'type': 'nominal_real'} is inconsistent with template Nanoindentation Process\n",
      "Value {'units': 'newton / meter', 'nominal': 14700000.0, 'type': 'nominal_real'} is inconsistent with template Nanoindentation Process\n",
      "Value {'units': 'dimensionless', 'nominal': 0.144, 'type': 'nominal_real'} is inconsistent with template Nanoindentation Process\n",
      "Value {'units': 'newton / meter', 'nominal': 8000000.0, 'type': 'nominal_real'} is inconsistent with template Nanoindentation Process\n",
      "Value {'units': 'newton / meter', 'nominal': 14700000.0, 'type': 'nominal_real'} is inconsistent with template Nanoindentation Process\n",
      "Value {'units': 'dimensionless', 'nominal': 0.144, 'type': 'nominal_real'} is inconsistent with template Nanoindentation Process\n",
      "Value {'units': 'newton / meter', 'nominal': 8000000.0, 'type': 'nominal_real'} is inconsistent with template Nanoindentation Process\n",
      "Value {'units': 'newton / meter', 'nominal': 14700000.0, 'type': 'nominal_real'} is inconsistent with template Nanoindentation Process\n",
      "Ignoring unexpected keyword argument in MeasurementSpec: properties\n",
      "Ignoring unexpected keyword argument in MeasurementSpec: properties\n",
      "Ignoring unexpected keyword argument in MeasurementSpec: properties\n",
      "Ignoring unexpected keyword argument in MeasurementSpec: properties\n",
      "Ignoring unexpected keyword argument in MeasurementSpec: properties\n",
      "Ignoring unexpected keyword argument in MeasurementSpec: properties\n",
      "Ignoring unexpected keyword argument in MeasurementSpec: properties\n",
      "Ignoring unexpected keyword argument in MeasurementSpec: properties\n",
      "Ignoring unexpected keyword argument in MeasurementSpec: properties\n",
      "Ignoring unexpected keyword argument in MeasurementSpec: properties\n",
      "Ignoring unexpected keyword argument in MeasurementSpec: properties\n",
      "Ignoring unexpected keyword argument in MeasurementSpec: properties\n",
      "Ignoring unexpected keyword argument in MeasurementSpec: properties\n",
      "Ignoring unexpected keyword argument in MeasurementSpec: properties\n"
     ]
    },
    {
     "name": "stdout",
     "output_type": "stream",
     "text": [
      "root\n",
      "  BBB01\n",
      "    {'rule_function': <function BIRDSHOTModeller.__init__.<locals>.<lambda> at 0x7f8b6b39b9d0>, 'file_id_regex_pattern': ('\\\\b[A-Z]{3}[0-9]{2}\\\\b', True), 'required_schema': [], 'action_function': <function BIRDSHOTModeller.__init__.<locals>.<lambda> at 0x7f8b6b39ba60>}\n",
      "    {'rule_function': <function BIRDSHOTModeller.__init__.<locals>.<lambda> at 0x7f8b6b39b820>, 'file_id_regex_pattern': ('\\\\b[A-Z]{3}[0-9]{2}\\\\b', True), 'required_schema': [], 'action_function': <function BIRDSHOTModeller.__init__.<locals>.<lambda> at 0x7f8b6b39b940>}\n",
      "    {'rule_function': <function BIRDSHOTModeller.__init__.<locals>.<lambda> at 0x7f8b6b39b790>, 'file_id_regex_pattern': ('\\\\b[A-Z]{3}[0-9]{2}\\\\b', True), 'required_schema': [], 'action_function': <function BIRDSHOTModeller.__init__.<locals>.<lambda> at 0x7f8b6b39b8b0>}\n",
      "tree None\n",
      "Rule was Found for NI-HSR and applied. \n"
     ]
    },
    {
     "data": {
      "text/plain": [
       "<birdshot_modeller.BIRDSHOTModeller at 0x7f8b6b8167f0>"
      ]
     },
     "execution_count": 4,
     "metadata": {},
     "output_type": "execute_result"
    }
   ],
   "source": [
    "files_folder = '/srv/hemi01-j01/htmdec_models/data/birdshot/files_folder'\n",
    "gemd_folder = '/srv/hemi01-j01/htmdec_models/data/birdshot/gemd_folder'\n",
    "BIRDSHOTModeller(files_folder, gemd_folder, instantiate_build=True)"
   ]
  },
  {
   "cell_type": "code",
   "execution_count": 7,
   "metadata": {},
   "outputs": [
    {
     "name": "stdout",
     "output_type": "stream",
     "text": [
      "-- Building runs of /srv/hemi01-j01/htmdec_models/data/birdshot/gemd_folder\n",
      "Extracting folder...\n",
      "0/123 gemd objects processed...\n",
      "30/123 gemd objects processed...\n",
      "60/123 gemd objects processed...\n",
      "90/123 gemd objects processed...\n",
      "120/123 gemd objects processed...\n",
      "Done.\n",
      "Relabeling nodes ...\n",
      "Saving graphs...\n",
      "Couldn't find GraphViz graph. Can't dump SVG and DOT files.\n",
      "Dumping graphml...\n",
      "Time elapsed: 0.00428318977355957\n",
      "-- Saved graph to /srv/hemi01-j01/htmdec_models/data/birdshot/gemd_folder/birdshot_run.graphml\n",
      "-- Analysis --\n",
      "cycles in the graph: []\n",
      "disregarded/total number of gemd objects: 0/123\n",
      "number of connected components: 51\n",
      "total nb of isolates in the graph: 0\n",
      "Done.\n"
     ]
    }
   ],
   "source": [
    "source = '/srv/hemi01-j01/htmdec_models/data/birdshot/gemd_folder'\n",
    "og = OpenGraph(name='birdshot', source=source, output=source)\n",
    "og.build_graph(save=True)\n",
    "print(\"Done.\")"
   ]
  },
  {
   "cell_type": "code",
   "execution_count": 9,
   "metadata": {},
   "outputs": [
    {
     "name": "stdout",
     "output_type": "stream",
     "text": [
      "Launching widget for /srv/hemi01-j01/htmdec_models/data/birdshot/gemd_folder/birdshot_run.graphml\n"
     ]
    },
    {
     "data": {
      "application/vnd.jupyter.widget-view+json": {
       "model_id": "3ea0987148f4489b95d06ef421af3d16",
       "version_major": 2,
       "version_minor": 0
      },
      "text/plain": [
       "GraphWidget(layout=Layout(height='500px', width='100%'))"
      ]
     },
     "metadata": {},
     "output_type": "display_data"
    }
   ],
   "source": [
    "from openmsimodel.graph.helpers import launch_graph_widget\n",
    "launch_graph_widget(graph_source=og.graphml_path, engine='yfiles')"
   ]
  },
  {
   "cell_type": "code",
   "execution_count": null,
   "metadata": {},
   "outputs": [],
   "source": []
  }
 ],
 "metadata": {
  "kernelspec": {
   "display_name": "birdshot",
   "language": "python",
   "name": "python3"
  },
  "language_info": {
   "codemirror_mode": {
    "name": "ipython",
    "version": 3
   },
   "file_extension": ".py",
   "mimetype": "text/x-python",
   "name": "python",
   "nbconvert_exporter": "python",
   "pygments_lexer": "ipython3",
   "version": "3.9.16"
  }
 },
 "nbformat": 4,
 "nbformat_minor": 2
}
