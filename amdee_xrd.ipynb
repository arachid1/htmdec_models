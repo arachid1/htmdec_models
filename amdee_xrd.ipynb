{
 "cells": [
  {
   "cell_type": "code",
   "execution_count": 16,
   "metadata": {},
   "outputs": [],
   "source": [
    "from gemd import MaterialTemplate, ProcessTemplate, MeasurementTemplate, ParameterTemplate, MaterialRun, MaterialSpec, RealBounds\n",
    "from openmsimodel.structures.materials_sequence import MaterialsSequence\n",
    "from openmsimodel.science_kit.science_kit import ScienceKit\n",
    "from openmsimodel.science_kit.science_kit import ScienceKit\n",
    "from openmsimodel.entity.gemd.material import Material\n",
    "from openmsimodel.entity.gemd.process import Process\n",
    "from openmsimodel.entity.gemd.measurement import Measurement\n",
    "from openmsimodel.entity.gemd.ingredient import Ingredient\n",
    "from openmsimodel.structures.materials_sequence import MaterialsSequence\n",
    "from openmsimodel.db.open_db import OpenDB\n",
    "from openmsimodel.graph.open_graph import OpenGraph\n",
    "from openmsimodel.graph.helpers import launch_graph_widget"
   ]
  },
  {
   "cell_type": "code",
   "execution_count": 17,
   "metadata": {},
   "outputs": [],
   "source": [
    "preprocessing_process_template = ProcessTemplate(\"Preprocessing\")\n",
    "sample_template = MaterialTemplate(\"Sample\")"
   ]
  },
  {
   "cell_type": "code",
   "execution_count": 18,
   "metadata": {},
   "outputs": [
    {
     "name": "stdout",
     "output_type": "stream",
     "text": [
      "no ingredients and process for block 'External Preprocessing' were linked. \n"
     ]
    }
   ],
   "source": [
    "science_kit = ScienceKit()\n",
    "\n",
    "preprocessing_process = Process(\"Peprocessing\", template=preprocessing_process_template)\n",
    "sample_material = Material(\"Sample\", template=sample_template)\n",
    "\n",
    "external_preprocessing_sequence = MaterialsSequence(\n",
    "    name=f\"External Preprocessing\",\n",
    "    science_kit=science_kit,\n",
    "    ingredients=[],\n",
    "    process=preprocessing_process,\n",
    "    material=sample_material,\n",
    "    measurements=[],\n",
    ")\n",
    "external_preprocessing_sequence.link_within()"
   ]
  },
  {
   "cell_type": "code",
   "execution_count": null,
   "metadata": {},
   "outputs": [],
   "source": [
    "thinning_process_template = ProcessTemplate(\"Thinning\", \n",
    "            parameters=ParameterTemplate(\n",
    "                name=\"Tool\",\n",
    "                bounds=CategoricalBounds([\"Diamond Wire Saw\"])\n",
    "            ),\n",
    "            conditions=ConditionTemplate(\n",
    "                name=\"Target Thickness\",\n",
    "                description=\"Objective of the thinning process which serves to achieve a target absorption length of the material\",\n",
    "                bounds=RealBounds(0, 20, \"cm\") #TODO \n",
    "        )\n",
    "    )\n",
    "\n",
    "preprocessing_process = Process(\"Thining\", template=thinning_process_template)"
   ]
  },
  {
   "cell_type": "code",
   "execution_count": null,
   "metadata": {},
   "outputs": [],
   "source": []
  }
 ],
 "metadata": {
  "kernelspec": {
   "display_name": "Python 3",
   "language": "python",
   "name": "python3"
  },
  "language_info": {
   "codemirror_mode": {
    "name": "ipython",
    "version": 3
   },
   "file_extension": ".py",
   "mimetype": "text/x-python",
   "name": "python",
   "nbconvert_exporter": "python",
   "pygments_lexer": "ipython3",
   "version": "3.9.16"
  }
 },
 "nbformat": 4,
 "nbformat_minor": 2
}
